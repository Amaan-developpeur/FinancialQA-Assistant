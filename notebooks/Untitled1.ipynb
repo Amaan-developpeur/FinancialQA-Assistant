{
 "cells": [
  {
   "cell_type": "code",
   "execution_count": 3,
   "id": "ec083922-73b8-4e15-8c14-aa34bb9e1c70",
   "metadata": {},
   "outputs": [],
   "source": [
    "#----mporting Necessary Libraries----------\n",
    "import os\n",
    "import pandas as pd"
   ]
  },
  {
   "cell_type": "code",
   "execution_count": 13,
   "id": "fb909a28-bee4-4dda-9f19-9835cfb2381a",
   "metadata": {},
   "outputs": [],
   "source": [
    "#--Directories--------\n",
    "RAW_DIR = r\"C:\\Users\\DELL\\Data Science\\Deep Learning\\NLP\\Projects\\financial-qa\\data\\raw_docs\""
   ]
  },
  {
   "cell_type": "code",
   "execution_count": 35,
   "id": "d7871f7a-d44e-4c68-bfbd-400f93316aea",
   "metadata": {},
   "outputs": [
    {
     "name": "stderr",
     "output_type": "stream",
     "text": [
      "Cannot set gray stroke color because /'P0' is an invalid float value\n",
      "Cannot set gray stroke color because /'P0' is an invalid float value\n",
      "Cannot set gray stroke color because /'P1' is an invalid float value\n"
     ]
    }
   ],
   "source": [
    "def extract_chunks_from_page(filename, page_number, text, chunk_size=300, overlap=50):\n",
    "    words = text.strip().split()\n",
    "    chunks = []\n",
    "    for x in range(0, len(words), chunk_size - overlap):\n",
    "        chunk_words = words[x:x+chunk_size]\n",
    "        if len(chunk_words) < 30:\n",
    "            continue\n",
    "        chunk_text = \" \".join(chunk_words)\n",
    "        chunk_id = f\"{filename}_p{page_number}_c{x}\"\n",
    "        chunks.append({\n",
    "            \"filename\": filename,\n",
    "            \"page\": page_number,\n",
    "            \"chunk_id\": chunk_id,\n",
    "            \"text\": chunk_text\n",
    "        })\n",
    "    return chunks\n",
    "    \n",
    "\n",
    "\n",
    "\n",
    "def extract_text_from_pdf(RAW_DIR):\n",
    "    all_chunks = []\n",
    "    for specific_file in os.listdir(RAW_DIR):\n",
    "        filepath = os.path.join(RAW_DIR, specific_file)\n",
    "        with pdfplumber.open(filepath) as pdf:\n",
    "            for page_number, page in enumerate(pdf.pages, start=1):\n",
    "                text = page.extract_text()\n",
    "                if not text:\n",
    "                    continue\n",
    "                text = text.replace(\"\\n\", \" \").strip()\n",
    "                chunks = extract_chunks_from_page(filepath, page_number, text)\n",
    "                all_chunks.extend(chunks)\n",
    "    return all_chunks\n",
    "\n",
    "chunks_data = extract_text_from_pdf(RAW_DIR)"
   ]
  },
  {
   "cell_type": "code",
   "execution_count": 4,
   "id": "baa2ed8d-021b-424a-8060-5ad605312874",
   "metadata": {},
   "outputs": [
    {
     "ename": "NameError",
     "evalue": "name 'chunks_data' is not defined",
     "output_type": "error",
     "traceback": [
      "\u001b[31m---------------------------------------------------------------------------\u001b[39m",
      "\u001b[31mNameError\u001b[39m                                 Traceback (most recent call last)",
      "\u001b[36mCell\u001b[39m\u001b[36m \u001b[39m\u001b[32mIn[4]\u001b[39m\u001b[32m, line 1\u001b[39m\n\u001b[32m----> \u001b[39m\u001b[32m1\u001b[39m df = pd.DataFrame(\u001b[43mchunks_data\u001b[49m)\n",
      "\u001b[31mNameError\u001b[39m: name 'chunks_data' is not defined"
     ]
    }
   ],
   "source": [
    "df = pd.DataFrame(chunks_data)"
   ]
  },
  {
   "cell_type": "code",
   "execution_count": 37,
   "id": "50848640-b27e-40eb-abd6-7fe00c47b93d",
   "metadata": {},
   "outputs": [
    {
     "data": {
      "text/plain": [
       "(3311, 4)"
      ]
     },
     "execution_count": 37,
     "metadata": {},
     "output_type": "execute_result"
    }
   ],
   "source": [
    "df.shape"
   ]
  },
  {
   "cell_type": "code",
   "execution_count": 38,
   "id": "677e8350-2b9e-4575-ba11-97a231b190a3",
   "metadata": {},
   "outputs": [
    {
     "data": {
      "text/html": [
       "<div>\n",
       "<style scoped>\n",
       "    .dataframe tbody tr th:only-of-type {\n",
       "        vertical-align: middle;\n",
       "    }\n",
       "\n",
       "    .dataframe tbody tr th {\n",
       "        vertical-align: top;\n",
       "    }\n",
       "\n",
       "    .dataframe thead th {\n",
       "        text-align: right;\n",
       "    }\n",
       "</style>\n",
       "<table border=\"1\" class=\"dataframe\">\n",
       "  <thead>\n",
       "    <tr style=\"text-align: right;\">\n",
       "      <th></th>\n",
       "      <th>filename</th>\n",
       "      <th>page</th>\n",
       "      <th>chunk_id</th>\n",
       "      <th>text</th>\n",
       "    </tr>\n",
       "  </thead>\n",
       "  <tbody>\n",
       "    <tr>\n",
       "      <th>0</th>\n",
       "      <td>C:\\Users\\DELL\\Data Science\\Deep Learning\\NLP\\P...</td>\n",
       "      <td>1</td>\n",
       "      <td>C:\\Users\\DELL\\Data Science\\Deep Learning\\NLP\\P...</td>\n",
       "      <td>CIN: L65920MH1994PLC080618 HDFC Bank Limited, ...</td>\n",
       "    </tr>\n",
       "    <tr>\n",
       "      <th>1</th>\n",
       "      <td>C:\\Users\\DELL\\Data Science\\Deep Learning\\NLP\\P...</td>\n",
       "      <td>1</td>\n",
       "      <td>C:\\Users\\DELL\\Data Science\\Deep Learning\\NLP\\P...</td>\n",
       "      <td>by way of remote e-voting will not be able to ...</td>\n",
       "    </tr>\n",
       "    <tr>\n",
       "      <th>2</th>\n",
       "      <td>C:\\Users\\DELL\\Data Science\\Deep Learning\\NLP\\P...</td>\n",
       "      <td>2</td>\n",
       "      <td>C:\\Users\\DELL\\Data Science\\Deep Learning\\NLP\\P...</td>\n",
       "      <td>resolutions as read. Now, without any further ...</td>\n",
       "    </tr>\n",
       "    <tr>\n",
       "      <th>3</th>\n",
       "      <td>C:\\Users\\DELL\\Data Science\\Deep Learning\\NLP\\P...</td>\n",
       "      <td>2</td>\n",
       "      <td>C:\\Users\\DELL\\Data Science\\Deep Learning\\NLP\\P...</td>\n",
       "      <td>present. With permission of the members, I cal...</td>\n",
       "    </tr>\n",
       "    <tr>\n",
       "      <th>4</th>\n",
       "      <td>C:\\Users\\DELL\\Data Science\\Deep Learning\\NLP\\P...</td>\n",
       "      <td>3</td>\n",
       "      <td>C:\\Users\\DELL\\Data Science\\Deep Learning\\NLP\\P...</td>\n",
       "      <td>Friends, we would like to recall last year whe...</td>\n",
       "    </tr>\n",
       "  </tbody>\n",
       "</table>\n",
       "</div>"
      ],
      "text/plain": [
       "                                            filename  page  \\\n",
       "0  C:\\Users\\DELL\\Data Science\\Deep Learning\\NLP\\P...     1   \n",
       "1  C:\\Users\\DELL\\Data Science\\Deep Learning\\NLP\\P...     1   \n",
       "2  C:\\Users\\DELL\\Data Science\\Deep Learning\\NLP\\P...     2   \n",
       "3  C:\\Users\\DELL\\Data Science\\Deep Learning\\NLP\\P...     2   \n",
       "4  C:\\Users\\DELL\\Data Science\\Deep Learning\\NLP\\P...     3   \n",
       "\n",
       "                                            chunk_id  \\\n",
       "0  C:\\Users\\DELL\\Data Science\\Deep Learning\\NLP\\P...   \n",
       "1  C:\\Users\\DELL\\Data Science\\Deep Learning\\NLP\\P...   \n",
       "2  C:\\Users\\DELL\\Data Science\\Deep Learning\\NLP\\P...   \n",
       "3  C:\\Users\\DELL\\Data Science\\Deep Learning\\NLP\\P...   \n",
       "4  C:\\Users\\DELL\\Data Science\\Deep Learning\\NLP\\P...   \n",
       "\n",
       "                                                text  \n",
       "0  CIN: L65920MH1994PLC080618 HDFC Bank Limited, ...  \n",
       "1  by way of remote e-voting will not be able to ...  \n",
       "2  resolutions as read. Now, without any further ...  \n",
       "3  present. With permission of the members, I cal...  \n",
       "4  Friends, we would like to recall last year whe...  "
      ]
     },
     "execution_count": 38,
     "metadata": {},
     "output_type": "execute_result"
    }
   ],
   "source": [
    "df.head()"
   ]
  },
  {
   "cell_type": "code",
   "execution_count": 1,
   "id": "0e6f175c-ca40-41fc-99e9-b0f1886f2f2d",
   "metadata": {},
   "outputs": [],
   "source": [
    "from sentence_transformers import SentenceTransformer"
   ]
  },
  {
   "cell_type": "code",
   "execution_count": 14,
   "id": "d7d34070-3e09-4ab7-bd2e-333039981f8d",
   "metadata": {},
   "outputs": [
    {
     "data": {
      "text/plain": [
       "['HDFC_AGM_Transcript_Aug2024.pdf',\n",
       " 'HDFC_BaselIII_Pillar3_2018.pdf',\n",
       " 'HDFC_BaselIII_Pillar3_2023.pdf',\n",
       " 'HDFC_Integrated_Annual_Report_2022.pdf',\n",
       " 'HDFC_Integrated_Annual_Report_2023.pdf',\n",
       " 'HDFC_Integrated_Annual_Report_2024.pdf.pdf',\n",
       " 'HDFC_Liquidity_Coverage_Ratio_2022.pdf',\n",
       " 'HDFC_Product_Risk_Disclosure_Options.pdf']"
      ]
     },
     "execution_count": 14,
     "metadata": {},
     "output_type": "execute_result"
    }
   ],
   "source": [
    "import os\n",
    "\n",
    "os.listdir(RAW_DIR)"
   ]
  },
  {
   "cell_type": "code",
   "execution_count": 5,
   "id": "40c7aa84-2682-4777-81a0-e25c81a850a6",
   "metadata": {},
   "outputs": [],
   "source": [
    "df = pd.read_csv(r\"C:\\Users\\DELL\\Data Science\\Deep Learning\\NLP\\Projects\\financial-qa\\data\\extracted_chunks.csv\")"
   ]
  },
  {
   "cell_type": "code",
   "execution_count": 6,
   "id": "30166865-4bb4-4619-9231-00d1be660598",
   "metadata": {},
   "outputs": [
    {
     "data": {
      "text/html": [
       "<div>\n",
       "<style scoped>\n",
       "    .dataframe tbody tr th:only-of-type {\n",
       "        vertical-align: middle;\n",
       "    }\n",
       "\n",
       "    .dataframe tbody tr th {\n",
       "        vertical-align: top;\n",
       "    }\n",
       "\n",
       "    .dataframe thead th {\n",
       "        text-align: right;\n",
       "    }\n",
       "</style>\n",
       "<table border=\"1\" class=\"dataframe\">\n",
       "  <thead>\n",
       "    <tr style=\"text-align: right;\">\n",
       "      <th></th>\n",
       "      <th>filename</th>\n",
       "      <th>page</th>\n",
       "      <th>chunk_id</th>\n",
       "      <th>text</th>\n",
       "    </tr>\n",
       "  </thead>\n",
       "  <tbody>\n",
       "    <tr>\n",
       "      <th>0</th>\n",
       "      <td>HDFC_AGM_Transcript_Aug2024.pdf</td>\n",
       "      <td>1</td>\n",
       "      <td>HDFC_AGM_Transcript_Aug2024.pdf_p1_c0</td>\n",
       "      <td>CIN: L65920MH1994PLC080618 HDFC Bank Limited, ...</td>\n",
       "    </tr>\n",
       "    <tr>\n",
       "      <th>1</th>\n",
       "      <td>HDFC_AGM_Transcript_Aug2024.pdf</td>\n",
       "      <td>1</td>\n",
       "      <td>HDFC_AGM_Transcript_Aug2024.pdf_p1_c250</td>\n",
       "      <td>by way of remote e-voting will not be able to ...</td>\n",
       "    </tr>\n",
       "    <tr>\n",
       "      <th>2</th>\n",
       "      <td>HDFC_AGM_Transcript_Aug2024.pdf</td>\n",
       "      <td>2</td>\n",
       "      <td>HDFC_AGM_Transcript_Aug2024.pdf_p2_c0</td>\n",
       "      <td>resolutions as read. Now, without any further ...</td>\n",
       "    </tr>\n",
       "    <tr>\n",
       "      <th>3</th>\n",
       "      <td>HDFC_AGM_Transcript_Aug2024.pdf</td>\n",
       "      <td>2</td>\n",
       "      <td>HDFC_AGM_Transcript_Aug2024.pdf_p2_c250</td>\n",
       "      <td>present. With permission of the members, I cal...</td>\n",
       "    </tr>\n",
       "    <tr>\n",
       "      <th>4</th>\n",
       "      <td>HDFC_AGM_Transcript_Aug2024.pdf</td>\n",
       "      <td>3</td>\n",
       "      <td>HDFC_AGM_Transcript_Aug2024.pdf_p3_c0</td>\n",
       "      <td>Friends, we would like to recall last year whe...</td>\n",
       "    </tr>\n",
       "  </tbody>\n",
       "</table>\n",
       "</div>"
      ],
      "text/plain": [
       "                          filename  page  \\\n",
       "0  HDFC_AGM_Transcript_Aug2024.pdf     1   \n",
       "1  HDFC_AGM_Transcript_Aug2024.pdf     1   \n",
       "2  HDFC_AGM_Transcript_Aug2024.pdf     2   \n",
       "3  HDFC_AGM_Transcript_Aug2024.pdf     2   \n",
       "4  HDFC_AGM_Transcript_Aug2024.pdf     3   \n",
       "\n",
       "                                  chunk_id  \\\n",
       "0    HDFC_AGM_Transcript_Aug2024.pdf_p1_c0   \n",
       "1  HDFC_AGM_Transcript_Aug2024.pdf_p1_c250   \n",
       "2    HDFC_AGM_Transcript_Aug2024.pdf_p2_c0   \n",
       "3  HDFC_AGM_Transcript_Aug2024.pdf_p2_c250   \n",
       "4    HDFC_AGM_Transcript_Aug2024.pdf_p3_c0   \n",
       "\n",
       "                                                text  \n",
       "0  CIN: L65920MH1994PLC080618 HDFC Bank Limited, ...  \n",
       "1  by way of remote e-voting will not be able to ...  \n",
       "2  resolutions as read. Now, without any further ...  \n",
       "3  present. With permission of the members, I cal...  \n",
       "4  Friends, we would like to recall last year whe...  "
      ]
     },
     "execution_count": 6,
     "metadata": {},
     "output_type": "execute_result"
    }
   ],
   "source": [
    "df.head()"
   ]
  },
  {
   "cell_type": "code",
   "execution_count": 7,
   "id": "75f3c8ae-7af6-484b-85a2-d42cb7e8c69e",
   "metadata": {},
   "outputs": [],
   "source": [
    "text = df[\"text\"].tolist()"
   ]
  },
  {
   "cell_type": "code",
   "execution_count": 8,
   "id": "2bec620e-30cb-425b-90ac-836a4db6a288",
   "metadata": {},
   "outputs": [],
   "source": [
    "model = SentenceTransformer(\"all-MiniLM-L6-v2\")"
   ]
  },
  {
   "cell_type": "code",
   "execution_count": 9,
   "id": "72e23992-02c0-435b-99a0-3819815b1a65",
   "metadata": {},
   "outputs": [
    {
     "data": {
      "application/vnd.jupyter.widget-view+json": {
       "model_id": "6f3f14973c1848529a75e1d66fa341bd",
       "version_major": 2,
       "version_minor": 0
      },
      "text/plain": [
       "Batches:   0%|          | 0/104 [00:00<?, ?it/s]"
      ]
     },
     "metadata": {},
     "output_type": "display_data"
    }
   ],
   "source": [
    "embedding = model.encode(\n",
    "    sentences=text,\n",
    "    batch_size=32,\n",
    "    show_progress_bar=True\n",
    ")"
   ]
  },
  {
   "cell_type": "code",
   "execution_count": 10,
   "id": "e5a65322-d0b3-4e54-a1bc-9674de66e2ef",
   "metadata": {},
   "outputs": [],
   "source": [
    "import numpy as np\n",
    "\n",
    "embedding_matrix = np.vstack(embedding)"
   ]
  },
  {
   "cell_type": "code",
   "execution_count": 12,
   "id": "37c6cb31-4a97-42a9-b6c2-6fe54ff9dac4",
   "metadata": {},
   "outputs": [],
   "source": [
    "from sklearn.metrics.pairwise import cosine_similarity\n",
    "\n",
    "\n",
    "query = \"What was the net profit of year 2024?\"\n",
    "query_embedding = model.encode([query])"
   ]
  },
  {
   "cell_type": "code",
   "execution_count": 19,
   "id": "c6a00b12-ff80-4339-b136-411fd1cd7a13",
   "metadata": {},
   "outputs": [
    {
     "data": {
      "text/plain": [
       "array([0.07963666, 0.08650772, 0.07412349, ..., 0.29384857, 0.08142707,\n",
       "       0.10899535], shape=(3311,), dtype=float32)"
      ]
     },
     "execution_count": 19,
     "metadata": {},
     "output_type": "execute_result"
    }
   ],
   "source": [
    "similarities = cosine_similarity(query_embedding, embedding_matrix)[0]\n",
    "similarities"
   ]
  },
  {
   "cell_type": "code",
   "execution_count": 20,
   "id": "5852c89b-8b2e-4e7e-af52-502cfa908392",
   "metadata": {},
   "outputs": [],
   "source": [
    "top_indices = similarities.argsort()[::-1][:5]"
   ]
  },
  {
   "cell_type": "code",
   "execution_count": 22,
   "id": "8a034c39-2b61-4f93-b8f4-f45bec6da960",
   "metadata": {},
   "outputs": [
    {
     "data": {
      "text/plain": [
       "array([2651,  631,  641, 2918,  835])"
      ]
     },
     "execution_count": 22,
     "metadata": {},
     "output_type": "execute_result"
    }
   ],
   "source": [
    "top_indices"
   ]
  },
  {
   "cell_type": "code",
   "execution_count": 27,
   "id": "4dd51d28-56b0-4cf2-a0b7-590493e920fd",
   "metadata": {},
   "outputs": [],
   "source": [
    "results = df.iloc[top_indices].copy()"
   ]
  },
  {
   "cell_type": "code",
   "execution_count": 28,
   "id": "1196f0ad-7009-4e66-b138-92bdfc8da055",
   "metadata": {},
   "outputs": [
    {
     "data": {
      "text/html": [
       "<div>\n",
       "<style scoped>\n",
       "    .dataframe tbody tr th:only-of-type {\n",
       "        vertical-align: middle;\n",
       "    }\n",
       "\n",
       "    .dataframe tbody tr th {\n",
       "        vertical-align: top;\n",
       "    }\n",
       "\n",
       "    .dataframe thead th {\n",
       "        text-align: right;\n",
       "    }\n",
       "</style>\n",
       "<table border=\"1\" class=\"dataframe\">\n",
       "  <thead>\n",
       "    <tr style=\"text-align: right;\">\n",
       "      <th></th>\n",
       "      <th>filename</th>\n",
       "      <th>page</th>\n",
       "      <th>chunk_id</th>\n",
       "      <th>text</th>\n",
       "    </tr>\n",
       "  </thead>\n",
       "  <tbody>\n",
       "    <tr>\n",
       "      <th>2651</th>\n",
       "      <td>HDFC_Integrated_Annual_Report_2024.pdf.pdf</td>\n",
       "      <td>287</td>\n",
       "      <td>HDFC_Integrated_Annual_Report_2024.pdf.pdf_p28...</td>\n",
       "      <td>STANDALONE PROFIT AND LOSS ACCOUNT For the yea...</td>\n",
       "    </tr>\n",
       "    <tr>\n",
       "      <th>631</th>\n",
       "      <td>HDFC_Integrated_Annual_Report_2022.pdf</td>\n",
       "      <td>218</td>\n",
       "      <td>HDFC_Integrated_Annual_Report_2022.pdf_p218_c0</td>\n",
       "      <td>Profit and Loss Account For the year ended Mar...</td>\n",
       "    </tr>\n",
       "    <tr>\n",
       "      <th>641</th>\n",
       "      <td>HDFC_Integrated_Annual_Report_2022.pdf</td>\n",
       "      <td>225</td>\n",
       "      <td>HDFC_Integrated_Annual_Report_2022.pdf_p225_c250</td>\n",
       "      <td>in '000 Year ended Year ended March 31, 2022 M...</td>\n",
       "    </tr>\n",
       "    <tr>\n",
       "      <th>2918</th>\n",
       "      <td>HDFC_Integrated_Annual_Report_2024.pdf.pdf</td>\n",
       "      <td>413</td>\n",
       "      <td>HDFC_Integrated_Annual_Report_2024.pdf.pdf_p41...</td>\n",
       "      <td>CONSOLIDATED PROFIT AND LOSS ACCOUNT For the y...</td>\n",
       "    </tr>\n",
       "    <tr>\n",
       "      <th>835</th>\n",
       "      <td>HDFC_Integrated_Annual_Report_2022.pdf</td>\n",
       "      <td>306</td>\n",
       "      <td>HDFC_Integrated_Annual_Report_2022.pdf_p306_c0</td>\n",
       "      <td>Consolidated Profit and Loss Account For the y...</td>\n",
       "    </tr>\n",
       "  </tbody>\n",
       "</table>\n",
       "</div>"
      ],
      "text/plain": [
       "                                        filename  page  \\\n",
       "2651  HDFC_Integrated_Annual_Report_2024.pdf.pdf   287   \n",
       "631       HDFC_Integrated_Annual_Report_2022.pdf   218   \n",
       "641       HDFC_Integrated_Annual_Report_2022.pdf   225   \n",
       "2918  HDFC_Integrated_Annual_Report_2024.pdf.pdf   413   \n",
       "835       HDFC_Integrated_Annual_Report_2022.pdf   306   \n",
       "\n",
       "                                               chunk_id  \\\n",
       "2651  HDFC_Integrated_Annual_Report_2024.pdf.pdf_p28...   \n",
       "631      HDFC_Integrated_Annual_Report_2022.pdf_p218_c0   \n",
       "641    HDFC_Integrated_Annual_Report_2022.pdf_p225_c250   \n",
       "2918  HDFC_Integrated_Annual_Report_2024.pdf.pdf_p41...   \n",
       "835      HDFC_Integrated_Annual_Report_2022.pdf_p306_c0   \n",
       "\n",
       "                                                   text  \n",
       "2651  STANDALONE PROFIT AND LOSS ACCOUNT For the yea...  \n",
       "631   Profit and Loss Account For the year ended Mar...  \n",
       "641   in '000 Year ended Year ended March 31, 2022 M...  \n",
       "2918  CONSOLIDATED PROFIT AND LOSS ACCOUNT For the y...  \n",
       "835   Consolidated Profit and Loss Account For the y...  "
      ]
     },
     "execution_count": 28,
     "metadata": {},
     "output_type": "execute_result"
    }
   ],
   "source": [
    "results"
   ]
  },
  {
   "cell_type": "code",
   "execution_count": 30,
   "id": "36d95bf1-035b-4dfd-99f0-bd13fab8e988",
   "metadata": {},
   "outputs": [],
   "source": [
    "results[\"similarities\"] = similarities[top_indices]"
   ]
  },
  {
   "cell_type": "code",
   "execution_count": 31,
   "id": "b0e4cada-ab19-477b-92f5-85917ba80814",
   "metadata": {},
   "outputs": [
    {
     "data": {
      "text/html": [
       "<div>\n",
       "<style scoped>\n",
       "    .dataframe tbody tr th:only-of-type {\n",
       "        vertical-align: middle;\n",
       "    }\n",
       "\n",
       "    .dataframe tbody tr th {\n",
       "        vertical-align: top;\n",
       "    }\n",
       "\n",
       "    .dataframe thead th {\n",
       "        text-align: right;\n",
       "    }\n",
       "</style>\n",
       "<table border=\"1\" class=\"dataframe\">\n",
       "  <thead>\n",
       "    <tr style=\"text-align: right;\">\n",
       "      <th></th>\n",
       "      <th>filename</th>\n",
       "      <th>page</th>\n",
       "      <th>chunk_id</th>\n",
       "      <th>text</th>\n",
       "      <th>similarities</th>\n",
       "    </tr>\n",
       "  </thead>\n",
       "  <tbody>\n",
       "    <tr>\n",
       "      <th>2651</th>\n",
       "      <td>HDFC_Integrated_Annual_Report_2024.pdf.pdf</td>\n",
       "      <td>287</td>\n",
       "      <td>HDFC_Integrated_Annual_Report_2024.pdf.pdf_p28...</td>\n",
       "      <td>STANDALONE PROFIT AND LOSS ACCOUNT For the yea...</td>\n",
       "      <td>0.589862</td>\n",
       "    </tr>\n",
       "    <tr>\n",
       "      <th>631</th>\n",
       "      <td>HDFC_Integrated_Annual_Report_2022.pdf</td>\n",
       "      <td>218</td>\n",
       "      <td>HDFC_Integrated_Annual_Report_2022.pdf_p218_c0</td>\n",
       "      <td>Profit and Loss Account For the year ended Mar...</td>\n",
       "      <td>0.571773</td>\n",
       "    </tr>\n",
       "    <tr>\n",
       "      <th>641</th>\n",
       "      <td>HDFC_Integrated_Annual_Report_2022.pdf</td>\n",
       "      <td>225</td>\n",
       "      <td>HDFC_Integrated_Annual_Report_2022.pdf_p225_c250</td>\n",
       "      <td>in '000 Year ended Year ended March 31, 2022 M...</td>\n",
       "      <td>0.544387</td>\n",
       "    </tr>\n",
       "    <tr>\n",
       "      <th>2918</th>\n",
       "      <td>HDFC_Integrated_Annual_Report_2024.pdf.pdf</td>\n",
       "      <td>413</td>\n",
       "      <td>HDFC_Integrated_Annual_Report_2024.pdf.pdf_p41...</td>\n",
       "      <td>CONSOLIDATED PROFIT AND LOSS ACCOUNT For the y...</td>\n",
       "      <td>0.534386</td>\n",
       "    </tr>\n",
       "    <tr>\n",
       "      <th>835</th>\n",
       "      <td>HDFC_Integrated_Annual_Report_2022.pdf</td>\n",
       "      <td>306</td>\n",
       "      <td>HDFC_Integrated_Annual_Report_2022.pdf_p306_c0</td>\n",
       "      <td>Consolidated Profit and Loss Account For the y...</td>\n",
       "      <td>0.521615</td>\n",
       "    </tr>\n",
       "  </tbody>\n",
       "</table>\n",
       "</div>"
      ],
      "text/plain": [
       "                                        filename  page  \\\n",
       "2651  HDFC_Integrated_Annual_Report_2024.pdf.pdf   287   \n",
       "631       HDFC_Integrated_Annual_Report_2022.pdf   218   \n",
       "641       HDFC_Integrated_Annual_Report_2022.pdf   225   \n",
       "2918  HDFC_Integrated_Annual_Report_2024.pdf.pdf   413   \n",
       "835       HDFC_Integrated_Annual_Report_2022.pdf   306   \n",
       "\n",
       "                                               chunk_id  \\\n",
       "2651  HDFC_Integrated_Annual_Report_2024.pdf.pdf_p28...   \n",
       "631      HDFC_Integrated_Annual_Report_2022.pdf_p218_c0   \n",
       "641    HDFC_Integrated_Annual_Report_2022.pdf_p225_c250   \n",
       "2918  HDFC_Integrated_Annual_Report_2024.pdf.pdf_p41...   \n",
       "835      HDFC_Integrated_Annual_Report_2022.pdf_p306_c0   \n",
       "\n",
       "                                                   text  similarities  \n",
       "2651  STANDALONE PROFIT AND LOSS ACCOUNT For the yea...      0.589862  \n",
       "631   Profit and Loss Account For the year ended Mar...      0.571773  \n",
       "641   in '000 Year ended Year ended March 31, 2022 M...      0.544387  \n",
       "2918  CONSOLIDATED PROFIT AND LOSS ACCOUNT For the y...      0.534386  \n",
       "835   Consolidated Profit and Loss Account For the y...      0.521615  "
      ]
     },
     "execution_count": 31,
     "metadata": {},
     "output_type": "execute_result"
    }
   ],
   "source": [
    "results"
   ]
  },
  {
   "cell_type": "code",
   "execution_count": 37,
   "id": "2e22d874-a51d-4a71-82f1-a54d4991ff63",
   "metadata": {},
   "outputs": [
    {
     "data": {
      "text/plain": [
       "{'page': {0: 1, 1: 1, 2: 2, 3: 2, 4: 3}}"
      ]
     },
     "execution_count": 37,
     "metadata": {},
     "output_type": "execute_result"
    }
   ],
   "source": [
    "df[[\"page\"]][:5].to_dict()"
   ]
  },
  {
   "cell_type": "code",
   "execution_count": 38,
   "id": "cf7b347f-b74d-4249-bc79-326e4dc33185",
   "metadata": {},
   "outputs": [],
   "source": [
    "embeddings = np.load(r\"C:\\Users\\DELL\\Data Science\\Deep Learning\\NLP\\Projects\\financial-qa\\data\\embedded_chunks.npy\")"
   ]
  },
  {
   "cell_type": "code",
   "execution_count": 39,
   "id": "c3b825bd-8767-4565-8055-981ef9452a45",
   "metadata": {},
   "outputs": [],
   "source": [
    "def get_top_k_similar_chunks(query, top_k=5):\n",
    "    query_embedding = model.encode([query])\n",
    "    similarity = cosine_similarity(query_embedding, embeddings)[0]\n",
    "    top_indices = similarity.argsort()[::-1][:top_k]\n",
    "    results = df.iloc[top_indices].copy()\n",
    "    results[\"Similarity\"] = similarity[top_indices]\n",
    "    return result"
   ]
  },
  {
   "cell_type": "code",
   "execution_count": 40,
   "id": "83f5588c-2010-4ab7-a2ce-bcee7dd766b9",
   "metadata": {},
   "outputs": [],
   "source": [
    "query = \"What was the net profit of year 2024?\"\n",
    "result = get_top_k_similar_chunks(query)"
   ]
  },
  {
   "cell_type": "code",
   "execution_count": 41,
   "id": "985a1826-7bfd-4ccb-84b9-b92600f6a4cb",
   "metadata": {},
   "outputs": [
    {
     "data": {
      "text/html": [
       "<div>\n",
       "<style scoped>\n",
       "    .dataframe tbody tr th:only-of-type {\n",
       "        vertical-align: middle;\n",
       "    }\n",
       "\n",
       "    .dataframe tbody tr th {\n",
       "        vertical-align: top;\n",
       "    }\n",
       "\n",
       "    .dataframe thead th {\n",
       "        text-align: right;\n",
       "    }\n",
       "</style>\n",
       "<table border=\"1\" class=\"dataframe\">\n",
       "  <thead>\n",
       "    <tr style=\"text-align: right;\">\n",
       "      <th></th>\n",
       "      <th>filename</th>\n",
       "      <th>page</th>\n",
       "      <th>chunk_id</th>\n",
       "      <th>text</th>\n",
       "      <th>Similarity</th>\n",
       "    </tr>\n",
       "  </thead>\n",
       "  <tbody>\n",
       "    <tr>\n",
       "      <th>2651</th>\n",
       "      <td>HDFC_Integrated_Annual_Report_2024.pdf.pdf</td>\n",
       "      <td>287</td>\n",
       "      <td>HDFC_Integrated_Annual_Report_2024.pdf.pdf_p28...</td>\n",
       "      <td>STANDALONE PROFIT AND LOSS ACCOUNT For the yea...</td>\n",
       "      <td>0.589862</td>\n",
       "    </tr>\n",
       "    <tr>\n",
       "      <th>631</th>\n",
       "      <td>HDFC_Integrated_Annual_Report_2022.pdf</td>\n",
       "      <td>218</td>\n",
       "      <td>HDFC_Integrated_Annual_Report_2022.pdf_p218_c0</td>\n",
       "      <td>Profit and Loss Account For the year ended Mar...</td>\n",
       "      <td>0.571773</td>\n",
       "    </tr>\n",
       "    <tr>\n",
       "      <th>641</th>\n",
       "      <td>HDFC_Integrated_Annual_Report_2022.pdf</td>\n",
       "      <td>225</td>\n",
       "      <td>HDFC_Integrated_Annual_Report_2022.pdf_p225_c250</td>\n",
       "      <td>in '000 Year ended Year ended March 31, 2022 M...</td>\n",
       "      <td>0.544387</td>\n",
       "    </tr>\n",
       "    <tr>\n",
       "      <th>2918</th>\n",
       "      <td>HDFC_Integrated_Annual_Report_2024.pdf.pdf</td>\n",
       "      <td>413</td>\n",
       "      <td>HDFC_Integrated_Annual_Report_2024.pdf.pdf_p41...</td>\n",
       "      <td>CONSOLIDATED PROFIT AND LOSS ACCOUNT For the y...</td>\n",
       "      <td>0.534386</td>\n",
       "    </tr>\n",
       "    <tr>\n",
       "      <th>835</th>\n",
       "      <td>HDFC_Integrated_Annual_Report_2022.pdf</td>\n",
       "      <td>306</td>\n",
       "      <td>HDFC_Integrated_Annual_Report_2022.pdf_p306_c0</td>\n",
       "      <td>Consolidated Profit and Loss Account For the y...</td>\n",
       "      <td>0.521615</td>\n",
       "    </tr>\n",
       "  </tbody>\n",
       "</table>\n",
       "</div>"
      ],
      "text/plain": [
       "                                        filename  page  \\\n",
       "2651  HDFC_Integrated_Annual_Report_2024.pdf.pdf   287   \n",
       "631       HDFC_Integrated_Annual_Report_2022.pdf   218   \n",
       "641       HDFC_Integrated_Annual_Report_2022.pdf   225   \n",
       "2918  HDFC_Integrated_Annual_Report_2024.pdf.pdf   413   \n",
       "835       HDFC_Integrated_Annual_Report_2022.pdf   306   \n",
       "\n",
       "                                               chunk_id  \\\n",
       "2651  HDFC_Integrated_Annual_Report_2024.pdf.pdf_p28...   \n",
       "631      HDFC_Integrated_Annual_Report_2022.pdf_p218_c0   \n",
       "641    HDFC_Integrated_Annual_Report_2022.pdf_p225_c250   \n",
       "2918  HDFC_Integrated_Annual_Report_2024.pdf.pdf_p41...   \n",
       "835      HDFC_Integrated_Annual_Report_2022.pdf_p306_c0   \n",
       "\n",
       "                                                   text  Similarity  \n",
       "2651  STANDALONE PROFIT AND LOSS ACCOUNT For the yea...    0.589862  \n",
       "631   Profit and Loss Account For the year ended Mar...    0.571773  \n",
       "641   in '000 Year ended Year ended March 31, 2022 M...    0.544387  \n",
       "2918  CONSOLIDATED PROFIT AND LOSS ACCOUNT For the y...    0.534386  \n",
       "835   Consolidated Profit and Loss Account For the y...    0.521615  "
      ]
     },
     "execution_count": 41,
     "metadata": {},
     "output_type": "execute_result"
    }
   ],
   "source": [
    "result"
   ]
  },
  {
   "cell_type": "code",
   "execution_count": null,
   "id": "756940dd-1127-4da0-b709-32976ae420f0",
   "metadata": {},
   "outputs": [],
   "source": []
  },
  {
   "cell_type": "code",
   "execution_count": null,
   "id": "88c837b2-d22b-4802-b72d-36b1532f8d15",
   "metadata": {},
   "outputs": [],
   "source": []
  }
 ],
 "metadata": {
  "kernelspec": {
   "display_name": "financial-qa",
   "language": "python",
   "name": "financial-qa"
  },
  "language_info": {
   "codemirror_mode": {
    "name": "ipython",
    "version": 3
   },
   "file_extension": ".py",
   "mimetype": "text/x-python",
   "name": "python",
   "nbconvert_exporter": "python",
   "pygments_lexer": "ipython3",
   "version": "3.12.3"
  }
 },
 "nbformat": 4,
 "nbformat_minor": 5
}
